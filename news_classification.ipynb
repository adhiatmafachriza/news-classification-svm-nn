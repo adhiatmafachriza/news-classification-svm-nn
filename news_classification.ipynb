{
  "cells": [
    {
      "cell_type": "markdown",
      "metadata": {
        "id": "fITdPcOlWau5"
      },
      "source": [
        "# Import relevant libraries"
      ]
    },
    {
      "cell_type": "code",
      "execution_count": null,
      "metadata": {
        "id": "DI4iF0_KWau_"
      },
      "outputs": [],
      "source": [
        "import pandas as pd\n",
        "import numpy as np\n",
        "import nltk\n",
        "import re\n",
        "from sklearn.feature_extraction.text import TfidfVectorizer\n",
        "from sklearn.model_selection import train_test_split\n",
        "from sklearn.svm import SVC\n",
        "from sklearn import metrics\n",
        "import joblib\n",
        "import time\n",
        "import matplotlib.pyplot as plt"
      ]
    },
    {
      "cell_type": "code",
      "source": [
        "from google.colab import drive\n",
        "drive.mount('/content/drive')"
      ],
      "metadata": {
        "colab": {
          "base_uri": "https://localhost:8080/"
        },
        "id": "YsWa5X5QYeu0",
        "outputId": "7283eddd-7039-47b0-ff3c-b8f4449e831e"
      },
      "execution_count": null,
      "outputs": [
        {
          "output_type": "stream",
          "name": "stdout",
          "text": [
            "Mounted at /content/drive\n"
          ]
        }
      ]
    },
    {
      "cell_type": "markdown",
      "metadata": {
        "id": "1R5FgiZjWavA"
      },
      "source": [
        "# Load data"
      ]
    },
    {
      "cell_type": "code",
      "execution_count": null,
      "metadata": {
        "id": "s1CtbCC5WavB"
      },
      "outputs": [],
      "source": [
        "dataset = pd.read_json(r'/content/drive/MyDrive/Datasets/News Category/News_Category_Dataset_v2.json', lines=True)"
      ]
    },
    {
      "cell_type": "code",
      "execution_count": null,
      "metadata": {
        "colab": {
          "base_uri": "https://localhost:8080/",
          "height": 337
        },
        "id": "L8KA-O6_WavC",
        "outputId": "27d99fa9-324c-4318-d1b6-f161290c02d2"
      },
      "outputs": [
        {
          "output_type": "execute_result",
          "data": {
            "text/html": [
              "\n",
              "  <div id=\"df-7e4829ba-222b-4a35-a1cd-7744a510d986\">\n",
              "    <div class=\"colab-df-container\">\n",
              "      <div>\n",
              "<style scoped>\n",
              "    .dataframe tbody tr th:only-of-type {\n",
              "        vertical-align: middle;\n",
              "    }\n",
              "\n",
              "    .dataframe tbody tr th {\n",
              "        vertical-align: top;\n",
              "    }\n",
              "\n",
              "    .dataframe thead th {\n",
              "        text-align: right;\n",
              "    }\n",
              "</style>\n",
              "<table border=\"1\" class=\"dataframe\">\n",
              "  <thead>\n",
              "    <tr style=\"text-align: right;\">\n",
              "      <th></th>\n",
              "      <th>category</th>\n",
              "      <th>headline</th>\n",
              "      <th>authors</th>\n",
              "      <th>link</th>\n",
              "      <th>short_description</th>\n",
              "      <th>date</th>\n",
              "    </tr>\n",
              "  </thead>\n",
              "  <tbody>\n",
              "    <tr>\n",
              "      <th>0</th>\n",
              "      <td>CRIME</td>\n",
              "      <td>There Were 2 Mass Shootings In Texas Last Week...</td>\n",
              "      <td>Melissa Jeltsen</td>\n",
              "      <td>https://www.huffingtonpost.com/entry/texas-ama...</td>\n",
              "      <td>She left her husband. He killed their children...</td>\n",
              "      <td>2018-05-26</td>\n",
              "    </tr>\n",
              "    <tr>\n",
              "      <th>1</th>\n",
              "      <td>ENTERTAINMENT</td>\n",
              "      <td>Will Smith Joins Diplo And Nicky Jam For The 2...</td>\n",
              "      <td>Andy McDonald</td>\n",
              "      <td>https://www.huffingtonpost.com/entry/will-smit...</td>\n",
              "      <td>Of course it has a song.</td>\n",
              "      <td>2018-05-26</td>\n",
              "    </tr>\n",
              "    <tr>\n",
              "      <th>2</th>\n",
              "      <td>ENTERTAINMENT</td>\n",
              "      <td>Hugh Grant Marries For The First Time At Age 57</td>\n",
              "      <td>Ron Dicker</td>\n",
              "      <td>https://www.huffingtonpost.com/entry/hugh-gran...</td>\n",
              "      <td>The actor and his longtime girlfriend Anna Ebe...</td>\n",
              "      <td>2018-05-26</td>\n",
              "    </tr>\n",
              "    <tr>\n",
              "      <th>3</th>\n",
              "      <td>ENTERTAINMENT</td>\n",
              "      <td>Jim Carrey Blasts 'Castrato' Adam Schiff And D...</td>\n",
              "      <td>Ron Dicker</td>\n",
              "      <td>https://www.huffingtonpost.com/entry/jim-carre...</td>\n",
              "      <td>The actor gives Dems an ass-kicking for not fi...</td>\n",
              "      <td>2018-05-26</td>\n",
              "    </tr>\n",
              "    <tr>\n",
              "      <th>4</th>\n",
              "      <td>ENTERTAINMENT</td>\n",
              "      <td>Julianna Margulies Uses Donald Trump Poop Bags...</td>\n",
              "      <td>Ron Dicker</td>\n",
              "      <td>https://www.huffingtonpost.com/entry/julianna-...</td>\n",
              "      <td>The \"Dietland\" actress said using the bags is ...</td>\n",
              "      <td>2018-05-26</td>\n",
              "    </tr>\n",
              "  </tbody>\n",
              "</table>\n",
              "</div>\n",
              "      <button class=\"colab-df-convert\" onclick=\"convertToInteractive('df-7e4829ba-222b-4a35-a1cd-7744a510d986')\"\n",
              "              title=\"Convert this dataframe to an interactive table.\"\n",
              "              style=\"display:none;\">\n",
              "        \n",
              "  <svg xmlns=\"http://www.w3.org/2000/svg\" height=\"24px\"viewBox=\"0 0 24 24\"\n",
              "       width=\"24px\">\n",
              "    <path d=\"M0 0h24v24H0V0z\" fill=\"none\"/>\n",
              "    <path d=\"M18.56 5.44l.94 2.06.94-2.06 2.06-.94-2.06-.94-.94-2.06-.94 2.06-2.06.94zm-11 1L8.5 8.5l.94-2.06 2.06-.94-2.06-.94L8.5 2.5l-.94 2.06-2.06.94zm10 10l.94 2.06.94-2.06 2.06-.94-2.06-.94-.94-2.06-.94 2.06-2.06.94z\"/><path d=\"M17.41 7.96l-1.37-1.37c-.4-.4-.92-.59-1.43-.59-.52 0-1.04.2-1.43.59L10.3 9.45l-7.72 7.72c-.78.78-.78 2.05 0 2.83L4 21.41c.39.39.9.59 1.41.59.51 0 1.02-.2 1.41-.59l7.78-7.78 2.81-2.81c.8-.78.8-2.07 0-2.86zM5.41 20L4 18.59l7.72-7.72 1.47 1.35L5.41 20z\"/>\n",
              "  </svg>\n",
              "      </button>\n",
              "      \n",
              "  <style>\n",
              "    .colab-df-container {\n",
              "      display:flex;\n",
              "      flex-wrap:wrap;\n",
              "      gap: 12px;\n",
              "    }\n",
              "\n",
              "    .colab-df-convert {\n",
              "      background-color: #E8F0FE;\n",
              "      border: none;\n",
              "      border-radius: 50%;\n",
              "      cursor: pointer;\n",
              "      display: none;\n",
              "      fill: #1967D2;\n",
              "      height: 32px;\n",
              "      padding: 0 0 0 0;\n",
              "      width: 32px;\n",
              "    }\n",
              "\n",
              "    .colab-df-convert:hover {\n",
              "      background-color: #E2EBFA;\n",
              "      box-shadow: 0px 1px 2px rgba(60, 64, 67, 0.3), 0px 1px 3px 1px rgba(60, 64, 67, 0.15);\n",
              "      fill: #174EA6;\n",
              "    }\n",
              "\n",
              "    [theme=dark] .colab-df-convert {\n",
              "      background-color: #3B4455;\n",
              "      fill: #D2E3FC;\n",
              "    }\n",
              "\n",
              "    [theme=dark] .colab-df-convert:hover {\n",
              "      background-color: #434B5C;\n",
              "      box-shadow: 0px 1px 3px 1px rgba(0, 0, 0, 0.15);\n",
              "      filter: drop-shadow(0px 1px 2px rgba(0, 0, 0, 0.3));\n",
              "      fill: #FFFFFF;\n",
              "    }\n",
              "  </style>\n",
              "\n",
              "      <script>\n",
              "        const buttonEl =\n",
              "          document.querySelector('#df-7e4829ba-222b-4a35-a1cd-7744a510d986 button.colab-df-convert');\n",
              "        buttonEl.style.display =\n",
              "          google.colab.kernel.accessAllowed ? 'block' : 'none';\n",
              "\n",
              "        async function convertToInteractive(key) {\n",
              "          const element = document.querySelector('#df-7e4829ba-222b-4a35-a1cd-7744a510d986');\n",
              "          const dataTable =\n",
              "            await google.colab.kernel.invokeFunction('convertToInteractive',\n",
              "                                                     [key], {});\n",
              "          if (!dataTable) return;\n",
              "\n",
              "          const docLinkHtml = 'Like what you see? Visit the ' +\n",
              "            '<a target=\"_blank\" href=https://colab.research.google.com/notebooks/data_table.ipynb>data table notebook</a>'\n",
              "            + ' to learn more about interactive tables.';\n",
              "          element.innerHTML = '';\n",
              "          dataTable['output_type'] = 'display_data';\n",
              "          await google.colab.output.renderOutput(dataTable, element);\n",
              "          const docLink = document.createElement('div');\n",
              "          docLink.innerHTML = docLinkHtml;\n",
              "          element.appendChild(docLink);\n",
              "        }\n",
              "      </script>\n",
              "    </div>\n",
              "  </div>\n",
              "  "
            ],
            "text/plain": [
              "        category  ...       date\n",
              "0          CRIME  ... 2018-05-26\n",
              "1  ENTERTAINMENT  ... 2018-05-26\n",
              "2  ENTERTAINMENT  ... 2018-05-26\n",
              "3  ENTERTAINMENT  ... 2018-05-26\n",
              "4  ENTERTAINMENT  ... 2018-05-26\n",
              "\n",
              "[5 rows x 6 columns]"
            ]
          },
          "metadata": {},
          "execution_count": 4
        }
      ],
      "source": [
        "dataset.head()"
      ]
    },
    {
      "cell_type": "code",
      "execution_count": null,
      "metadata": {
        "colab": {
          "base_uri": "https://localhost:8080/"
        },
        "id": "til5i92DWavD",
        "outputId": "b3805cb2-83c6-4b6f-cc45-a09a84aa6bc4"
      },
      "outputs": [
        {
          "output_type": "execute_result",
          "data": {
            "text/plain": [
              "array(['POLITICS',\n",
              "       'The Koch Network Is Going After One Of Trump’s Favorite Congressmen',\n",
              "       'The billionaire Koch brothers’ political network wants to show it will punish Republicans who don’t support its agenda.'],\n",
              "      dtype=object)"
            ]
          },
          "metadata": {},
          "execution_count": 5
        }
      ],
      "source": [
        "dataset.loc[100, ['category', 'headline', 'short_description']].values"
      ]
    },
    {
      "cell_type": "markdown",
      "metadata": {
        "id": "qpQj5qQQWavD"
      },
      "source": [
        "check data distribution based on category"
      ]
    },
    {
      "cell_type": "code",
      "execution_count": null,
      "metadata": {
        "colab": {
          "base_uri": "https://localhost:8080/",
          "height": 1000
        },
        "id": "AnG_H_jdWavE",
        "outputId": "5fc8306d-e36f-45ab-c2a9-b08b149428ad"
      },
      "outputs": [
        {
          "output_type": "execute_result",
          "data": {
            "text/html": [
              "\n",
              "  <div id=\"df-8664ba86-4bf3-4fc7-9bf0-9b291ed5d0f4\">\n",
              "    <div class=\"colab-df-container\">\n",
              "      <div>\n",
              "<style scoped>\n",
              "    .dataframe tbody tr th:only-of-type {\n",
              "        vertical-align: middle;\n",
              "    }\n",
              "\n",
              "    .dataframe tbody tr th {\n",
              "        vertical-align: top;\n",
              "    }\n",
              "\n",
              "    .dataframe thead th {\n",
              "        text-align: right;\n",
              "    }\n",
              "</style>\n",
              "<table border=\"1\" class=\"dataframe\">\n",
              "  <thead>\n",
              "    <tr style=\"text-align: right;\">\n",
              "      <th></th>\n",
              "      <th>total news</th>\n",
              "    </tr>\n",
              "    <tr>\n",
              "      <th>category</th>\n",
              "      <th></th>\n",
              "    </tr>\n",
              "  </thead>\n",
              "  <tbody>\n",
              "    <tr>\n",
              "      <th>POLITICS</th>\n",
              "      <td>32739</td>\n",
              "    </tr>\n",
              "    <tr>\n",
              "      <th>WELLNESS</th>\n",
              "      <td>17827</td>\n",
              "    </tr>\n",
              "    <tr>\n",
              "      <th>ENTERTAINMENT</th>\n",
              "      <td>16058</td>\n",
              "    </tr>\n",
              "    <tr>\n",
              "      <th>TRAVEL</th>\n",
              "      <td>9887</td>\n",
              "    </tr>\n",
              "    <tr>\n",
              "      <th>STYLE &amp; BEAUTY</th>\n",
              "      <td>9649</td>\n",
              "    </tr>\n",
              "    <tr>\n",
              "      <th>PARENTING</th>\n",
              "      <td>8677</td>\n",
              "    </tr>\n",
              "    <tr>\n",
              "      <th>HEALTHY LIVING</th>\n",
              "      <td>6694</td>\n",
              "    </tr>\n",
              "    <tr>\n",
              "      <th>QUEER VOICES</th>\n",
              "      <td>6314</td>\n",
              "    </tr>\n",
              "    <tr>\n",
              "      <th>FOOD &amp; DRINK</th>\n",
              "      <td>6226</td>\n",
              "    </tr>\n",
              "    <tr>\n",
              "      <th>BUSINESS</th>\n",
              "      <td>5937</td>\n",
              "    </tr>\n",
              "    <tr>\n",
              "      <th>COMEDY</th>\n",
              "      <td>5175</td>\n",
              "    </tr>\n",
              "    <tr>\n",
              "      <th>SPORTS</th>\n",
              "      <td>4884</td>\n",
              "    </tr>\n",
              "    <tr>\n",
              "      <th>BLACK VOICES</th>\n",
              "      <td>4528</td>\n",
              "    </tr>\n",
              "    <tr>\n",
              "      <th>HOME &amp; LIVING</th>\n",
              "      <td>4195</td>\n",
              "    </tr>\n",
              "    <tr>\n",
              "      <th>PARENTS</th>\n",
              "      <td>3955</td>\n",
              "    </tr>\n",
              "    <tr>\n",
              "      <th>THE WORLDPOST</th>\n",
              "      <td>3664</td>\n",
              "    </tr>\n",
              "    <tr>\n",
              "      <th>WEDDINGS</th>\n",
              "      <td>3651</td>\n",
              "    </tr>\n",
              "    <tr>\n",
              "      <th>WOMEN</th>\n",
              "      <td>3490</td>\n",
              "    </tr>\n",
              "    <tr>\n",
              "      <th>IMPACT</th>\n",
              "      <td>3459</td>\n",
              "    </tr>\n",
              "    <tr>\n",
              "      <th>DIVORCE</th>\n",
              "      <td>3426</td>\n",
              "    </tr>\n",
              "    <tr>\n",
              "      <th>CRIME</th>\n",
              "      <td>3405</td>\n",
              "    </tr>\n",
              "    <tr>\n",
              "      <th>MEDIA</th>\n",
              "      <td>2815</td>\n",
              "    </tr>\n",
              "    <tr>\n",
              "      <th>WEIRD NEWS</th>\n",
              "      <td>2670</td>\n",
              "    </tr>\n",
              "    <tr>\n",
              "      <th>GREEN</th>\n",
              "      <td>2622</td>\n",
              "    </tr>\n",
              "    <tr>\n",
              "      <th>WORLDPOST</th>\n",
              "      <td>2579</td>\n",
              "    </tr>\n",
              "    <tr>\n",
              "      <th>RELIGION</th>\n",
              "      <td>2556</td>\n",
              "    </tr>\n",
              "    <tr>\n",
              "      <th>STYLE</th>\n",
              "      <td>2254</td>\n",
              "    </tr>\n",
              "    <tr>\n",
              "      <th>SCIENCE</th>\n",
              "      <td>2178</td>\n",
              "    </tr>\n",
              "    <tr>\n",
              "      <th>WORLD NEWS</th>\n",
              "      <td>2177</td>\n",
              "    </tr>\n",
              "    <tr>\n",
              "      <th>TASTE</th>\n",
              "      <td>2096</td>\n",
              "    </tr>\n",
              "    <tr>\n",
              "      <th>TECH</th>\n",
              "      <td>2082</td>\n",
              "    </tr>\n",
              "    <tr>\n",
              "      <th>MONEY</th>\n",
              "      <td>1707</td>\n",
              "    </tr>\n",
              "    <tr>\n",
              "      <th>ARTS</th>\n",
              "      <td>1509</td>\n",
              "    </tr>\n",
              "    <tr>\n",
              "      <th>FIFTY</th>\n",
              "      <td>1401</td>\n",
              "    </tr>\n",
              "    <tr>\n",
              "      <th>GOOD NEWS</th>\n",
              "      <td>1398</td>\n",
              "    </tr>\n",
              "    <tr>\n",
              "      <th>ARTS &amp; CULTURE</th>\n",
              "      <td>1339</td>\n",
              "    </tr>\n",
              "    <tr>\n",
              "      <th>ENVIRONMENT</th>\n",
              "      <td>1323</td>\n",
              "    </tr>\n",
              "    <tr>\n",
              "      <th>COLLEGE</th>\n",
              "      <td>1144</td>\n",
              "    </tr>\n",
              "    <tr>\n",
              "      <th>LATINO VOICES</th>\n",
              "      <td>1129</td>\n",
              "    </tr>\n",
              "    <tr>\n",
              "      <th>CULTURE &amp; ARTS</th>\n",
              "      <td>1030</td>\n",
              "    </tr>\n",
              "    <tr>\n",
              "      <th>EDUCATION</th>\n",
              "      <td>1004</td>\n",
              "    </tr>\n",
              "  </tbody>\n",
              "</table>\n",
              "</div>\n",
              "      <button class=\"colab-df-convert\" onclick=\"convertToInteractive('df-8664ba86-4bf3-4fc7-9bf0-9b291ed5d0f4')\"\n",
              "              title=\"Convert this dataframe to an interactive table.\"\n",
              "              style=\"display:none;\">\n",
              "        \n",
              "  <svg xmlns=\"http://www.w3.org/2000/svg\" height=\"24px\"viewBox=\"0 0 24 24\"\n",
              "       width=\"24px\">\n",
              "    <path d=\"M0 0h24v24H0V0z\" fill=\"none\"/>\n",
              "    <path d=\"M18.56 5.44l.94 2.06.94-2.06 2.06-.94-2.06-.94-.94-2.06-.94 2.06-2.06.94zm-11 1L8.5 8.5l.94-2.06 2.06-.94-2.06-.94L8.5 2.5l-.94 2.06-2.06.94zm10 10l.94 2.06.94-2.06 2.06-.94-2.06-.94-.94-2.06-.94 2.06-2.06.94z\"/><path d=\"M17.41 7.96l-1.37-1.37c-.4-.4-.92-.59-1.43-.59-.52 0-1.04.2-1.43.59L10.3 9.45l-7.72 7.72c-.78.78-.78 2.05 0 2.83L4 21.41c.39.39.9.59 1.41.59.51 0 1.02-.2 1.41-.59l7.78-7.78 2.81-2.81c.8-.78.8-2.07 0-2.86zM5.41 20L4 18.59l7.72-7.72 1.47 1.35L5.41 20z\"/>\n",
              "  </svg>\n",
              "      </button>\n",
              "      \n",
              "  <style>\n",
              "    .colab-df-container {\n",
              "      display:flex;\n",
              "      flex-wrap:wrap;\n",
              "      gap: 12px;\n",
              "    }\n",
              "\n",
              "    .colab-df-convert {\n",
              "      background-color: #E8F0FE;\n",
              "      border: none;\n",
              "      border-radius: 50%;\n",
              "      cursor: pointer;\n",
              "      display: none;\n",
              "      fill: #1967D2;\n",
              "      height: 32px;\n",
              "      padding: 0 0 0 0;\n",
              "      width: 32px;\n",
              "    }\n",
              "\n",
              "    .colab-df-convert:hover {\n",
              "      background-color: #E2EBFA;\n",
              "      box-shadow: 0px 1px 2px rgba(60, 64, 67, 0.3), 0px 1px 3px 1px rgba(60, 64, 67, 0.15);\n",
              "      fill: #174EA6;\n",
              "    }\n",
              "\n",
              "    [theme=dark] .colab-df-convert {\n",
              "      background-color: #3B4455;\n",
              "      fill: #D2E3FC;\n",
              "    }\n",
              "\n",
              "    [theme=dark] .colab-df-convert:hover {\n",
              "      background-color: #434B5C;\n",
              "      box-shadow: 0px 1px 3px 1px rgba(0, 0, 0, 0.15);\n",
              "      filter: drop-shadow(0px 1px 2px rgba(0, 0, 0, 0.3));\n",
              "      fill: #FFFFFF;\n",
              "    }\n",
              "  </style>\n",
              "\n",
              "      <script>\n",
              "        const buttonEl =\n",
              "          document.querySelector('#df-8664ba86-4bf3-4fc7-9bf0-9b291ed5d0f4 button.colab-df-convert');\n",
              "        buttonEl.style.display =\n",
              "          google.colab.kernel.accessAllowed ? 'block' : 'none';\n",
              "\n",
              "        async function convertToInteractive(key) {\n",
              "          const element = document.querySelector('#df-8664ba86-4bf3-4fc7-9bf0-9b291ed5d0f4');\n",
              "          const dataTable =\n",
              "            await google.colab.kernel.invokeFunction('convertToInteractive',\n",
              "                                                     [key], {});\n",
              "          if (!dataTable) return;\n",
              "\n",
              "          const docLinkHtml = 'Like what you see? Visit the ' +\n",
              "            '<a target=\"_blank\" href=https://colab.research.google.com/notebooks/data_table.ipynb>data table notebook</a>'\n",
              "            + ' to learn more about interactive tables.';\n",
              "          element.innerHTML = '';\n",
              "          dataTable['output_type'] = 'display_data';\n",
              "          await google.colab.output.renderOutput(dataTable, element);\n",
              "          const docLink = document.createElement('div');\n",
              "          docLink.innerHTML = docLinkHtml;\n",
              "          element.appendChild(docLink);\n",
              "        }\n",
              "      </script>\n",
              "    </div>\n",
              "  </div>\n",
              "  "
            ],
            "text/plain": [
              "                total news\n",
              "category                  \n",
              "POLITICS             32739\n",
              "WELLNESS             17827\n",
              "ENTERTAINMENT        16058\n",
              "TRAVEL                9887\n",
              "STYLE & BEAUTY        9649\n",
              "PARENTING             8677\n",
              "HEALTHY LIVING        6694\n",
              "QUEER VOICES          6314\n",
              "FOOD & DRINK          6226\n",
              "BUSINESS              5937\n",
              "COMEDY                5175\n",
              "SPORTS                4884\n",
              "BLACK VOICES          4528\n",
              "HOME & LIVING         4195\n",
              "PARENTS               3955\n",
              "THE WORLDPOST         3664\n",
              "WEDDINGS              3651\n",
              "WOMEN                 3490\n",
              "IMPACT                3459\n",
              "DIVORCE               3426\n",
              "CRIME                 3405\n",
              "MEDIA                 2815\n",
              "WEIRD NEWS            2670\n",
              "GREEN                 2622\n",
              "WORLDPOST             2579\n",
              "RELIGION              2556\n",
              "STYLE                 2254\n",
              "SCIENCE               2178\n",
              "WORLD NEWS            2177\n",
              "TASTE                 2096\n",
              "TECH                  2082\n",
              "MONEY                 1707\n",
              "ARTS                  1509\n",
              "FIFTY                 1401\n",
              "GOOD NEWS             1398\n",
              "ARTS & CULTURE        1339\n",
              "ENVIRONMENT           1323\n",
              "COLLEGE               1144\n",
              "LATINO VOICES         1129\n",
              "CULTURE & ARTS        1030\n",
              "EDUCATION             1004"
            ]
          },
          "metadata": {},
          "execution_count": 6
        }
      ],
      "source": [
        "pd.DataFrame(dataset.groupby(['category']).size().sort_values(ascending=False), columns=['total news'])"
      ]
    },
    {
      "cell_type": "markdown",
      "metadata": {
        "id": "XY_v5VgnWavF"
      },
      "source": [
        "# Data preprocessing"
      ]
    },
    {
      "cell_type": "markdown",
      "metadata": {
        "id": "K7DtgjqBWavF"
      },
      "source": [
        "take top 4 categories"
      ]
    },
    {
      "cell_type": "code",
      "execution_count": null,
      "metadata": {
        "colab": {
          "base_uri": "https://localhost:8080/",
          "height": 206
        },
        "id": "ADO4GJ0WWavG",
        "outputId": "f374a493-81a8-4469-9d9d-01d43355638f"
      },
      "outputs": [
        {
          "output_type": "execute_result",
          "data": {
            "text/html": [
              "\n",
              "  <div id=\"df-f86cf34c-59f0-4ca1-b497-ca1f637fbc61\">\n",
              "    <div class=\"colab-df-container\">\n",
              "      <div>\n",
              "<style scoped>\n",
              "    .dataframe tbody tr th:only-of-type {\n",
              "        vertical-align: middle;\n",
              "    }\n",
              "\n",
              "    .dataframe tbody tr th {\n",
              "        vertical-align: top;\n",
              "    }\n",
              "\n",
              "    .dataframe thead th {\n",
              "        text-align: right;\n",
              "    }\n",
              "</style>\n",
              "<table border=\"1\" class=\"dataframe\">\n",
              "  <thead>\n",
              "    <tr style=\"text-align: right;\">\n",
              "      <th></th>\n",
              "      <th>category</th>\n",
              "      <th>headline</th>\n",
              "      <th>short_description</th>\n",
              "    </tr>\n",
              "  </thead>\n",
              "  <tbody>\n",
              "    <tr>\n",
              "      <th>1</th>\n",
              "      <td>ENTERTAINMENT</td>\n",
              "      <td>Will Smith Joins Diplo And Nicky Jam For The 2...</td>\n",
              "      <td>Of course it has a song.</td>\n",
              "    </tr>\n",
              "    <tr>\n",
              "      <th>2</th>\n",
              "      <td>ENTERTAINMENT</td>\n",
              "      <td>Hugh Grant Marries For The First Time At Age 57</td>\n",
              "      <td>The actor and his longtime girlfriend Anna Ebe...</td>\n",
              "    </tr>\n",
              "    <tr>\n",
              "      <th>3</th>\n",
              "      <td>ENTERTAINMENT</td>\n",
              "      <td>Jim Carrey Blasts 'Castrato' Adam Schiff And D...</td>\n",
              "      <td>The actor gives Dems an ass-kicking for not fi...</td>\n",
              "    </tr>\n",
              "    <tr>\n",
              "      <th>4</th>\n",
              "      <td>ENTERTAINMENT</td>\n",
              "      <td>Julianna Margulies Uses Donald Trump Poop Bags...</td>\n",
              "      <td>The \"Dietland\" actress said using the bags is ...</td>\n",
              "    </tr>\n",
              "    <tr>\n",
              "      <th>5</th>\n",
              "      <td>ENTERTAINMENT</td>\n",
              "      <td>Morgan Freeman 'Devastated' That Sexual Harass...</td>\n",
              "      <td>\"It is not right to equate horrific incidents ...</td>\n",
              "    </tr>\n",
              "  </tbody>\n",
              "</table>\n",
              "</div>\n",
              "      <button class=\"colab-df-convert\" onclick=\"convertToInteractive('df-f86cf34c-59f0-4ca1-b497-ca1f637fbc61')\"\n",
              "              title=\"Convert this dataframe to an interactive table.\"\n",
              "              style=\"display:none;\">\n",
              "        \n",
              "  <svg xmlns=\"http://www.w3.org/2000/svg\" height=\"24px\"viewBox=\"0 0 24 24\"\n",
              "       width=\"24px\">\n",
              "    <path d=\"M0 0h24v24H0V0z\" fill=\"none\"/>\n",
              "    <path d=\"M18.56 5.44l.94 2.06.94-2.06 2.06-.94-2.06-.94-.94-2.06-.94 2.06-2.06.94zm-11 1L8.5 8.5l.94-2.06 2.06-.94-2.06-.94L8.5 2.5l-.94 2.06-2.06.94zm10 10l.94 2.06.94-2.06 2.06-.94-2.06-.94-.94-2.06-.94 2.06-2.06.94z\"/><path d=\"M17.41 7.96l-1.37-1.37c-.4-.4-.92-.59-1.43-.59-.52 0-1.04.2-1.43.59L10.3 9.45l-7.72 7.72c-.78.78-.78 2.05 0 2.83L4 21.41c.39.39.9.59 1.41.59.51 0 1.02-.2 1.41-.59l7.78-7.78 2.81-2.81c.8-.78.8-2.07 0-2.86zM5.41 20L4 18.59l7.72-7.72 1.47 1.35L5.41 20z\"/>\n",
              "  </svg>\n",
              "      </button>\n",
              "      \n",
              "  <style>\n",
              "    .colab-df-container {\n",
              "      display:flex;\n",
              "      flex-wrap:wrap;\n",
              "      gap: 12px;\n",
              "    }\n",
              "\n",
              "    .colab-df-convert {\n",
              "      background-color: #E8F0FE;\n",
              "      border: none;\n",
              "      border-radius: 50%;\n",
              "      cursor: pointer;\n",
              "      display: none;\n",
              "      fill: #1967D2;\n",
              "      height: 32px;\n",
              "      padding: 0 0 0 0;\n",
              "      width: 32px;\n",
              "    }\n",
              "\n",
              "    .colab-df-convert:hover {\n",
              "      background-color: #E2EBFA;\n",
              "      box-shadow: 0px 1px 2px rgba(60, 64, 67, 0.3), 0px 1px 3px 1px rgba(60, 64, 67, 0.15);\n",
              "      fill: #174EA6;\n",
              "    }\n",
              "\n",
              "    [theme=dark] .colab-df-convert {\n",
              "      background-color: #3B4455;\n",
              "      fill: #D2E3FC;\n",
              "    }\n",
              "\n",
              "    [theme=dark] .colab-df-convert:hover {\n",
              "      background-color: #434B5C;\n",
              "      box-shadow: 0px 1px 3px 1px rgba(0, 0, 0, 0.15);\n",
              "      filter: drop-shadow(0px 1px 2px rgba(0, 0, 0, 0.3));\n",
              "      fill: #FFFFFF;\n",
              "    }\n",
              "  </style>\n",
              "\n",
              "      <script>\n",
              "        const buttonEl =\n",
              "          document.querySelector('#df-f86cf34c-59f0-4ca1-b497-ca1f637fbc61 button.colab-df-convert');\n",
              "        buttonEl.style.display =\n",
              "          google.colab.kernel.accessAllowed ? 'block' : 'none';\n",
              "\n",
              "        async function convertToInteractive(key) {\n",
              "          const element = document.querySelector('#df-f86cf34c-59f0-4ca1-b497-ca1f637fbc61');\n",
              "          const dataTable =\n",
              "            await google.colab.kernel.invokeFunction('convertToInteractive',\n",
              "                                                     [key], {});\n",
              "          if (!dataTable) return;\n",
              "\n",
              "          const docLinkHtml = 'Like what you see? Visit the ' +\n",
              "            '<a target=\"_blank\" href=https://colab.research.google.com/notebooks/data_table.ipynb>data table notebook</a>'\n",
              "            + ' to learn more about interactive tables.';\n",
              "          element.innerHTML = '';\n",
              "          dataTable['output_type'] = 'display_data';\n",
              "          await google.colab.output.renderOutput(dataTable, element);\n",
              "          const docLink = document.createElement('div');\n",
              "          docLink.innerHTML = docLinkHtml;\n",
              "          element.appendChild(docLink);\n",
              "        }\n",
              "      </script>\n",
              "    </div>\n",
              "  </div>\n",
              "  "
            ],
            "text/plain": [
              "        category  ...                                  short_description\n",
              "1  ENTERTAINMENT  ...                           Of course it has a song.\n",
              "2  ENTERTAINMENT  ...  The actor and his longtime girlfriend Anna Ebe...\n",
              "3  ENTERTAINMENT  ...  The actor gives Dems an ass-kicking for not fi...\n",
              "4  ENTERTAINMENT  ...  The \"Dietland\" actress said using the bags is ...\n",
              "5  ENTERTAINMENT  ...  \"It is not right to equate horrific incidents ...\n",
              "\n",
              "[5 rows x 3 columns]"
            ]
          },
          "metadata": {},
          "execution_count": 7
        }
      ],
      "source": [
        "dataset_small = dataset[dataset['category'].isin(['WELLNESS', 'POLITICS', 'ENTERTAINMENT', 'TRAVEL'])].loc[:, ['category', 'headline', 'short_description']].copy()\n",
        "\n",
        "dataset_small.head()"
      ]
    },
    {
      "cell_type": "markdown",
      "metadata": {
        "id": "TpGfQoPqWavH"
      },
      "source": [
        "combine headline with short description"
      ]
    },
    {
      "cell_type": "code",
      "execution_count": null,
      "metadata": {
        "id": "O39RQKfUWavH"
      },
      "outputs": [],
      "source": [
        "headline_desc = dataset_small['headline'].values + ' ' + dataset_small['short_description'].values"
      ]
    },
    {
      "cell_type": "code",
      "execution_count": null,
      "metadata": {
        "colab": {
          "base_uri": "https://localhost:8080/",
          "height": 35
        },
        "id": "7fFd4-JVWavI",
        "outputId": "37435f91-260d-451b-f8c5-29d7152a7238"
      },
      "outputs": [
        {
          "output_type": "execute_result",
          "data": {
            "application/vnd.google.colaboratory.intrinsic+json": {
              "type": "string"
            },
            "text/plain": [
              "\"Will Smith Joins Diplo And Nicky Jam For The 2018 World Cup's Official Song Of course it has a song.\""
            ]
          },
          "metadata": {},
          "execution_count": 9
        }
      ],
      "source": [
        "headline_desc[0]"
      ]
    },
    {
      "cell_type": "code",
      "execution_count": null,
      "metadata": {
        "colab": {
          "base_uri": "https://localhost:8080/"
        },
        "id": "mZF_9wvMWavI",
        "outputId": "40082c86-d7c5-4dbe-d5de-3af76b01aaa3"
      },
      "outputs": [
        {
          "output_type": "stream",
          "name": "stdout",
          "text": [
            "[nltk_data] Downloading package stopwords to /root/nltk_data...\n",
            "[nltk_data]   Unzipping corpora/stopwords.zip.\n",
            "[nltk_data] Downloading package punkt to /root/nltk_data...\n",
            "[nltk_data]   Unzipping tokenizers/punkt.zip.\n"
          ]
        }
      ],
      "source": [
        "nltk.download('stopwords')\n",
        "nltk.download('punkt')\n",
        "\n",
        "stopwords = set(nltk.corpus.stopwords.words('english'))\n",
        "stemmer = nltk.stem.PorterStemmer()"
      ]
    },
    {
      "cell_type": "code",
      "execution_count": null,
      "metadata": {
        "id": "wDztIjrrWavJ"
      },
      "outputs": [],
      "source": [
        "def text_preprocessing(text):\n",
        "    # full text level\n",
        "    # remove numbers\n",
        "    no_num_text = re.sub(r'\\d+', '', text)\n",
        "    # lower case conversion\n",
        "    lowercase_text = no_num_text.lower()\n",
        "\n",
        "    # word level\n",
        "    # tokenization\n",
        "    tokens = nltk.tokenize.word_tokenize(lowercase_text)\n",
        "    # remove stopwords\n",
        "    no_stopwords_text = [word for word in tokens if not word in stopwords]\n",
        "    # remove puncts    \n",
        "    no_punct_text = [word for word in no_stopwords_text if word.isalpha()]\n",
        "    # stemming    \n",
        "    stemmed_text = [stemmer.stem(word) for word in no_punct_text]\n",
        "    \n",
        "    return ' '.join(stemmed_text)"
      ]
    },
    {
      "cell_type": "code",
      "execution_count": null,
      "metadata": {
        "id": "D_Or21ZWWavJ"
      },
      "outputs": [],
      "source": [
        "X = np.array([text_preprocessing(text) for text in headline_desc])"
      ]
    },
    {
      "cell_type": "code",
      "execution_count": null,
      "metadata": {
        "colab": {
          "base_uri": "https://localhost:8080/"
        },
        "id": "DtYdI5EbWavK",
        "outputId": "b3ae2597-c4b5-4157-a4d1-0f22e5b5e3a3"
      },
      "outputs": [
        {
          "output_type": "execute_result",
          "data": {
            "text/plain": [
              "(76511,)"
            ]
          },
          "metadata": {},
          "execution_count": 13
        }
      ],
      "source": [
        "X.shape"
      ]
    },
    {
      "cell_type": "code",
      "execution_count": null,
      "metadata": {
        "id": "qHlPVHHfWavK"
      },
      "outputs": [],
      "source": [
        "y_full = dataset_small['category'].values"
      ]
    },
    {
      "cell_type": "code",
      "execution_count": null,
      "metadata": {
        "colab": {
          "base_uri": "https://localhost:8080/"
        },
        "id": "26mALZtxWavK",
        "outputId": "f9479466-5a9c-427c-87db-6583e88bf346"
      },
      "outputs": [
        {
          "output_type": "execute_result",
          "data": {
            "text/plain": [
              "(76511,)"
            ]
          },
          "metadata": {},
          "execution_count": 15
        }
      ],
      "source": [
        "y_full.shape"
      ]
    },
    {
      "cell_type": "markdown",
      "metadata": {
        "id": "MOYEPVYlWavL"
      },
      "source": [
        "convert features to tf-idf format"
      ]
    },
    {
      "cell_type": "code",
      "execution_count": null,
      "metadata": {
        "id": "koD_1cltWavL"
      },
      "outputs": [],
      "source": [
        "tfidf = TfidfVectorizer(analyzer='word', max_features=1000, ngram_range=(1,1))\n",
        "X_tfidf = tfidf.fit_transform(X)"
      ]
    },
    {
      "cell_type": "code",
      "execution_count": null,
      "metadata": {
        "colab": {
          "base_uri": "https://localhost:8080/"
        },
        "id": "cws-t6cmWavL",
        "outputId": "2574667b-a95f-4b2d-b796-a4addf2e3e24"
      },
      "outputs": [
        {
          "output_type": "execute_result",
          "data": {
            "text/plain": [
              "(76511, 1000)"
            ]
          },
          "metadata": {},
          "execution_count": 17
        }
      ],
      "source": [
        "X_tfidf.shape"
      ]
    },
    {
      "cell_type": "markdown",
      "metadata": {
        "id": "I9bMrlSIWavM"
      },
      "source": [
        "train test split"
      ]
    },
    {
      "cell_type": "code",
      "execution_count": null,
      "metadata": {
        "id": "lp3mZr_YWavM"
      },
      "outputs": [],
      "source": [
        "X_train, X_test, y_train, y_test = train_test_split(X_tfidf, y_full, test_size=0.3)"
      ]
    },
    {
      "cell_type": "markdown",
      "metadata": {
        "id": "T-a5KjoQWavM"
      },
      "source": [
        "# SVM model"
      ]
    },
    {
      "cell_type": "markdown",
      "metadata": {
        "id": "ghXR9GGSWavM"
      },
      "source": [
        "## Training"
      ]
    },
    {
      "cell_type": "code",
      "execution_count": null,
      "metadata": {
        "id": "SvSwkHGRWavM"
      },
      "outputs": [],
      "source": [
        "svm_model = SVC(kernel='poly', degree=3, coef0=1, C=5)"
      ]
    },
    {
      "cell_type": "code",
      "execution_count": null,
      "metadata": {
        "id": "hceqgAm5WavN"
      },
      "outputs": [],
      "source": [
        "svm_training_start = time.time()\n",
        "svm_model.fit(X_train, y_train)\n",
        "svm_training_end = time.time()"
      ]
    },
    {
      "cell_type": "code",
      "source": [
        "print('svm training time : ', svm_training_end - svm_training_start, 's')"
      ],
      "metadata": {
        "colab": {
          "base_uri": "https://localhost:8080/"
        },
        "id": "s90nQqTTkYsL",
        "outputId": "d9dee357-27e6-4cbe-db83-6afaeee31191"
      },
      "execution_count": null,
      "outputs": [
        {
          "output_type": "stream",
          "name": "stdout",
          "text": [
            "svm training time :  673.177906036377 s\n"
          ]
        }
      ]
    },
    {
      "cell_type": "markdown",
      "metadata": {
        "id": "UfYX3EaOWavN"
      },
      "source": [
        "## Evaluate"
      ]
    },
    {
      "cell_type": "code",
      "execution_count": null,
      "metadata": {
        "id": "Vu725KS2WavN"
      },
      "outputs": [],
      "source": [
        "y_pred = svm_model.predict(X_test)"
      ]
    },
    {
      "cell_type": "code",
      "execution_count": null,
      "metadata": {
        "id": "ItAHU9InWavN",
        "outputId": "366d3276-5dba-498b-c157-5cd40a8ba2c1",
        "colab": {
          "base_uri": "https://localhost:8080/"
        }
      },
      "outputs": [
        {
          "output_type": "execute_result",
          "data": {
            "text/plain": [
              "0.865600766750893"
            ]
          },
          "metadata": {},
          "execution_count": 26
        }
      ],
      "source": [
        "metrics.accuracy_score(y_test, y_pred)"
      ]
    },
    {
      "cell_type": "code",
      "execution_count": null,
      "metadata": {
        "id": "GS4qnYLWWavO",
        "outputId": "ad7780df-630d-4b66-aab8-c8ff9a1af453",
        "colab": {
          "base_uri": "https://localhost:8080/"
        }
      },
      "outputs": [
        {
          "output_type": "stream",
          "name": "stdout",
          "text": [
            "               precision    recall  f1-score   support\n",
            "\n",
            "ENTERTAINMENT       0.79      0.82      0.80      4769\n",
            "     POLITICS       0.91      0.91      0.91      9804\n",
            "       TRAVEL       0.85      0.78      0.82      2995\n",
            "     WELLNESS       0.86      0.88      0.87      5386\n",
            "\n",
            "     accuracy                           0.87     22954\n",
            "    macro avg       0.85      0.85      0.85     22954\n",
            " weighted avg       0.87      0.87      0.87     22954\n",
            "\n"
          ]
        }
      ],
      "source": [
        "print(metrics.classification_report(y_test, y_pred))"
      ]
    },
    {
      "cell_type": "markdown",
      "metadata": {
        "id": "VBkRH8PuWavO"
      },
      "source": [
        "## Save model"
      ]
    },
    {
      "cell_type": "code",
      "execution_count": null,
      "metadata": {
        "id": "utchK9NRWavO",
        "outputId": "aeae1c51-fa1d-45af-991d-491848743d76"
      },
      "outputs": [
        {
          "data": {
            "text/plain": [
              "['svm-model.sav']"
            ]
          },
          "execution_count": 62,
          "metadata": {},
          "output_type": "execute_result"
        }
      ],
      "source": [
        "joblib.dump(svm_model, 'svm-model.sav')"
      ]
    },
    {
      "cell_type": "markdown",
      "metadata": {
        "id": "0LaVnGONWavO"
      },
      "source": [
        "## Predict"
      ]
    },
    {
      "cell_type": "code",
      "execution_count": null,
      "metadata": {
        "id": "UGI6V9c2WavP"
      },
      "outputs": [],
      "source": [
        "title = 'Why Meditation Can Improve Your productivity'\n",
        "short_description = 'Meditation is one such wellness practice that not only offers immense spiritual benefits, but is incredibly helpful for maintaining physical and emotional health as well'"
      ]
    },
    {
      "cell_type": "code",
      "source": [
        "def svm_predict(title: str, short_desc: str) -> str:\n",
        "    # combine title and short desc\n",
        "    title_desc = title + ' ' + short_description\n",
        "    # preprocessing pipeline\n",
        "    text_processed = text_preprocessing(title_desc)\n",
        "    # convert to tf-idf\n",
        "    text_tfidf = tfidf.transform([text_processed])\n",
        "\n",
        "    return svm_model.predict(text_tfidf)[0]"
      ],
      "metadata": {
        "id": "a5JBwSPElKAR"
      },
      "execution_count": null,
      "outputs": []
    },
    {
      "cell_type": "code",
      "execution_count": null,
      "metadata": {
        "id": "otcBTLZ6WavP",
        "outputId": "f2c4f1e4-eea0-4d08-9daa-7b757679fdbd",
        "colab": {
          "base_uri": "https://localhost:8080/"
        }
      },
      "outputs": [
        {
          "output_type": "stream",
          "name": "stdout",
          "text": [
            "Prediction :  WELLNESS\n"
          ]
        }
      ],
      "source": [
        "print('Prediction : ', svm_predict(title, short_description))"
      ]
    },
    {
      "cell_type": "markdown",
      "metadata": {
        "id": "I3_-M0UHWavP"
      },
      "source": [
        "# Neural Networks"
      ]
    },
    {
      "cell_type": "code",
      "execution_count": null,
      "metadata": {
        "id": "544IXcXYWavP"
      },
      "outputs": [],
      "source": [
        "import tensorflow\n",
        "from tensorflow import keras\n",
        "from sklearn.preprocessing import OneHotEncoder"
      ]
    },
    {
      "cell_type": "markdown",
      "source": [
        "## Preprocessing"
      ],
      "metadata": {
        "id": "WyFWADKMngS3"
      }
    },
    {
      "cell_type": "markdown",
      "source": [
        "convert labels into one hot format"
      ],
      "metadata": {
        "id": "1I6XFfool0fY"
      }
    },
    {
      "cell_type": "code",
      "execution_count": null,
      "metadata": {
        "id": "_1jKPHZsWavQ"
      },
      "outputs": [],
      "source": [
        "y_full = OneHotEncoder(sparse=False).fit_transform(dataset_small['category'].values.reshape(-1,1))"
      ]
    },
    {
      "cell_type": "markdown",
      "source": [
        "tensorflow can't process sparse matrix, so need to convert to np array "
      ],
      "metadata": {
        "id": "yk-fZK9bl76g"
      }
    },
    {
      "cell_type": "code",
      "source": [
        "X_tfidf_array = X_tfidf.toarray()"
      ],
      "metadata": {
        "id": "g1sbomtnfXmf"
      },
      "execution_count": null,
      "outputs": []
    },
    {
      "cell_type": "code",
      "execution_count": null,
      "metadata": {
        "id": "4ZSPGF-OWavQ"
      },
      "outputs": [],
      "source": [
        "X_train, X_test, y_train, y_test = train_test_split(X_tfidf_array, y_full, test_size=0.3)"
      ]
    },
    {
      "cell_type": "markdown",
      "source": [
        "## Neural Nets Model"
      ],
      "metadata": {
        "id": "CbEZxMd4njTH"
      }
    },
    {
      "cell_type": "markdown",
      "source": [
        "input_dim = tfidf vector dimension"
      ],
      "metadata": {
        "id": "6WubDV-_mOWQ"
      }
    },
    {
      "cell_type": "code",
      "execution_count": null,
      "metadata": {
        "id": "2dLeR9TBWavQ"
      },
      "outputs": [],
      "source": [
        "nn_model = keras.models.Sequential([\n",
        "    keras.layers.Dense(units=1000, activation='relu', input_dim=1000),\n",
        "    keras.layers.Dense(units=500, activation='relu'),\n",
        "    keras.layers.Dense(units=200, activation='relu'),\n",
        "    keras.layers.Dense(units=4, activation='softmax')\n",
        "])\n",
        "\n",
        "opt = keras.optimizers.SGD(learning_rate=0.1)\n",
        "\n",
        "nn_model.compile(loss='categorical_crossentropy', optimizer=opt, metrics=['accuracy'])"
      ]
    },
    {
      "cell_type": "code",
      "execution_count": null,
      "metadata": {
        "colab": {
          "base_uri": "https://localhost:8080/"
        },
        "id": "PY5hnlrlWavQ",
        "outputId": "71dfd6df-eaa0-482f-993a-f03fab6d3c3d"
      },
      "outputs": [
        {
          "output_type": "stream",
          "name": "stdout",
          "text": [
            "Model: \"sequential\"\n",
            "_________________________________________________________________\n",
            " Layer (type)                Output Shape              Param #   \n",
            "=================================================================\n",
            " dense (Dense)               (None, 1000)              1001000   \n",
            "                                                                 \n",
            " dense_1 (Dense)             (None, 500)               500500    \n",
            "                                                                 \n",
            " dense_2 (Dense)             (None, 200)               100200    \n",
            "                                                                 \n",
            " dense_3 (Dense)             (None, 4)                 804       \n",
            "                                                                 \n",
            "=================================================================\n",
            "Total params: 1,602,504\n",
            "Trainable params: 1,602,504\n",
            "Non-trainable params: 0\n",
            "_________________________________________________________________\n"
          ]
        }
      ],
      "source": [
        "nn_model.summary()"
      ]
    },
    {
      "cell_type": "markdown",
      "source": [
        "## Training"
      ],
      "metadata": {
        "id": "rovhiN5WnnsR"
      }
    },
    {
      "cell_type": "code",
      "execution_count": null,
      "metadata": {
        "colab": {
          "base_uri": "https://localhost:8080/"
        },
        "id": "qVku29ezWavR",
        "outputId": "d234a8a8-68e1-4edf-a58e-bff941054775"
      },
      "outputs": [
        {
          "output_type": "stream",
          "name": "stdout",
          "text": [
            "Epoch 1/20\n",
            "1674/1674 [==============================] - 11s 6ms/step - loss: 0.6815 - accuracy: 0.7308 - val_loss: 0.4190 - val_accuracy: 0.8511\n",
            "Epoch 2/20\n",
            "1674/1674 [==============================] - 10s 6ms/step - loss: 0.4129 - accuracy: 0.8540 - val_loss: 0.3967 - val_accuracy: 0.8580\n",
            "Epoch 3/20\n",
            "1674/1674 [==============================] - 9s 6ms/step - loss: 0.3760 - accuracy: 0.8666 - val_loss: 0.3988 - val_accuracy: 0.8561\n",
            "Epoch 4/20\n",
            "1674/1674 [==============================] - 9s 6ms/step - loss: 0.3564 - accuracy: 0.8737 - val_loss: 0.3890 - val_accuracy: 0.8619\n",
            "Epoch 5/20\n",
            "1674/1674 [==============================] - 9s 6ms/step - loss: 0.3370 - accuracy: 0.8802 - val_loss: 0.4481 - val_accuracy: 0.8395\n",
            "Epoch 6/20\n",
            "1674/1674 [==============================] - 10s 6ms/step - loss: 0.3147 - accuracy: 0.8877 - val_loss: 0.4278 - val_accuracy: 0.8531\n",
            "Epoch 7/20\n",
            "1674/1674 [==============================] - 9s 6ms/step - loss: 0.2938 - accuracy: 0.8953 - val_loss: 0.4373 - val_accuracy: 0.8458\n",
            "Epoch 8/20\n",
            "1674/1674 [==============================] - 9s 6ms/step - loss: 0.2650 - accuracy: 0.9068 - val_loss: 0.4176 - val_accuracy: 0.8563\n",
            "Epoch 9/20\n",
            "1674/1674 [==============================] - 9s 6ms/step - loss: 0.2374 - accuracy: 0.9175 - val_loss: 0.4681 - val_accuracy: 0.8430\n",
            "Epoch 10/20\n",
            "1674/1674 [==============================] - 9s 6ms/step - loss: 0.2070 - accuracy: 0.9266 - val_loss: 0.4524 - val_accuracy: 0.8538\n",
            "Epoch 11/20\n",
            "1674/1674 [==============================] - 10s 6ms/step - loss: 0.1748 - accuracy: 0.9392 - val_loss: 0.4644 - val_accuracy: 0.8562\n",
            "Epoch 12/20\n",
            "1674/1674 [==============================] - 10s 6ms/step - loss: 0.1456 - accuracy: 0.9511 - val_loss: 0.4976 - val_accuracy: 0.8531\n",
            "Epoch 13/20\n",
            "1674/1674 [==============================] - 9s 6ms/step - loss: 0.1148 - accuracy: 0.9611 - val_loss: 0.5407 - val_accuracy: 0.8522\n",
            "Epoch 14/20\n",
            "1674/1674 [==============================] - 10s 6ms/step - loss: 0.1049 - accuracy: 0.9662 - val_loss: 0.5629 - val_accuracy: 0.8501\n",
            "Epoch 15/20\n",
            "1674/1674 [==============================] - 10s 6ms/step - loss: 0.0817 - accuracy: 0.9743 - val_loss: 0.5663 - val_accuracy: 0.8533\n",
            "Epoch 16/20\n",
            "1674/1674 [==============================] - 9s 6ms/step - loss: 0.0726 - accuracy: 0.9772 - val_loss: 0.6639 - val_accuracy: 0.8218\n",
            "Epoch 17/20\n",
            "1674/1674 [==============================] - 9s 6ms/step - loss: 0.0565 - accuracy: 0.9837 - val_loss: 0.6779 - val_accuracy: 0.8488\n",
            "Epoch 18/20\n",
            "1674/1674 [==============================] - 9s 6ms/step - loss: 0.0385 - accuracy: 0.9893 - val_loss: 0.6627 - val_accuracy: 0.8586\n",
            "Epoch 19/20\n",
            "1674/1674 [==============================] - 10s 6ms/step - loss: 0.0412 - accuracy: 0.9883 - val_loss: 0.6942 - val_accuracy: 0.8512\n",
            "Epoch 20/20\n",
            "1674/1674 [==============================] - 9s 6ms/step - loss: 0.0208 - accuracy: 0.9940 - val_loss: 0.7261 - val_accuracy: 0.8579\n"
          ]
        }
      ],
      "source": [
        "nn_training_start = time.time()\n",
        "nn_traning_history = nn_model.fit(X_train, y_train, epochs=20, validation_data=(X_test, y_test))\n",
        "nn_training_end = time.time()"
      ]
    },
    {
      "cell_type": "code",
      "source": [
        "print('neural networks training time : ', nn_training_end - nn_training_start, 's')"
      ],
      "metadata": {
        "colab": {
          "base_uri": "https://localhost:8080/"
        },
        "id": "xDaU9q-inzEI",
        "outputId": "5964a47d-d7eb-4594-90fb-7964ff31d8ec"
      },
      "execution_count": null,
      "outputs": [
        {
          "output_type": "stream",
          "name": "stdout",
          "text": [
            "neural networks training time :  192.48960518836975 s\n"
          ]
        }
      ]
    },
    {
      "cell_type": "code",
      "source": [
        "pd.DataFrame(nn_traning_history.history).plot(figsize=(8,5))\n",
        "plt.grid(True)\n",
        "plt.gca().set_ylim(0, 1)"
      ],
      "metadata": {
        "colab": {
          "base_uri": "https://localhost:8080/",
          "height": 341
        },
        "id": "rTx4xsb5n_tA",
        "outputId": "0a765103-b9ce-4a50-eabf-19790e488eaa"
      },
      "execution_count": null,
      "outputs": [
        {
          "output_type": "execute_result",
          "data": {
            "text/plain": [
              "(0.0, 1.0)"
            ]
          },
          "metadata": {},
          "execution_count": 45
        },
        {
          "output_type": "display_data",
          "data": {
            "image/png": "[encoded data removed]",
            "text/plain": [
              "<Figure size 576x360 with 1 Axes>"
            ]
          },
          "metadata": {
            "needs_background": "light"
          }
        }
      ]
    },
    {
      "cell_type": "markdown",
      "source": [
        "## Evaluation"
      ],
      "metadata": {
        "id": "ly3Np-Ianc7O"
      }
    },
    {
      "cell_type": "code",
      "source": [
        "nn_model.evaluate(X_test, y_test)"
      ],
      "metadata": {
        "colab": {
          "base_uri": "https://localhost:8080/"
        },
        "id": "HAzgq0Itncmo",
        "outputId": "e881c043-e64f-490c-8cac-59b0c5607e3e"
      },
      "execution_count": null,
      "outputs": [
        {
          "output_type": "stream",
          "name": "stdout",
          "text": [
            "718/718 [==============================] - 3s 4ms/step - loss: 0.7261 - accuracy: 0.8579\n"
          ]
        },
        {
          "output_type": "execute_result",
          "data": {
            "text/plain": [
              "[0.7261236906051636, 0.8579332828521729]"
            ]
          },
          "metadata": {},
          "execution_count": 40
        }
      ]
    },
    {
      "cell_type": "markdown",
      "source": [
        "## Prediction"
      ],
      "metadata": {
        "id": "17MmzTVtod6o"
      }
    },
    {
      "cell_type": "code",
      "source": [
        "# title = 'Why Meditation Can Improve Your productivity'\n",
        "# short_description = 'Meditation is one such wellness practice that not only offers immense spiritual benefits, but is incredibly helpful for maintaining physical and emotional health as well'\n",
        "\n",
        "title = 'the new batman trailer release today'\n",
        "short_description = 'the trailer introduce new characters such as catwoman, penguin and riddler'"
      ],
      "metadata": {
        "id": "BzcS3H_Nhklu"
      },
      "execution_count": null,
      "outputs": []
    },
    {
      "cell_type": "code",
      "source": [
        "def nn_predict(title: str, short_description: str):\n",
        "    labels = np.unique(dataset_small['category'].values)\n",
        "\n",
        "    # combine title and short desc\n",
        "    title_desc = title + ' ' + short_description\n",
        "    # preprocessing pipeline\n",
        "    text_processed = text_preprocessing(title_desc)\n",
        "    # convert to tf-idf\n",
        "    text_tfidf = tfidf.transform([text_processed])\n",
        "\n",
        "    predicted_index = np.argmax(nn_model.predict(text_tfidf.toarray()))\n",
        "    \n",
        "    return labels[predicted_index]"
      ],
      "metadata": {
        "id": "szTWParyhuLg"
      },
      "execution_count": null,
      "outputs": []
    },
    {
      "cell_type": "code",
      "source": [
        "print('Prediction : ', nn_predict(title, short_description))"
      ],
      "metadata": {
        "colab": {
          "base_uri": "https://localhost:8080/"
        },
        "id": "DXGfBI_ThSB3",
        "outputId": "54daeef0-1b44-4605-c2d0-dd631e311c78"
      },
      "execution_count": null,
      "outputs": [
        {
          "output_type": "stream",
          "name": "stdout",
          "text": [
            "Prediction :  ENTERTAINMENT\n"
          ]
        }
      ]
    }
  ],
  "metadata": {
    "interpreter": {
      "hash": "9684b727369eac9f8698ca83935a734e60f4903b867138fb75287918b1bc9fed"
    },
    "kernelspec": {
      "display_name": "Python 3.8.11 64-bit ('nlp-tf': conda)",
      "language": "python",
      "name": "python3"
    },
    "language_info": {
      "codemirror_mode": {
        "name": "ipython",
        "version": 3
      },
      "file_extension": ".py",
      "mimetype": "text/x-python",
      "name": "python",
      "nbconvert_exporter": "python",
      "pygments_lexer": "ipython3",
      "version": "3.8.11"
    },
    "orig_nbformat": 4,
    "colab": {
      "name": "news-classification.ipynb",
      "provenance": [],
      "collapsed_sections": []
    },
    "accelerator": "GPU"
  },
  "nbformat": 4,
  "nbformat_minor": 0
}